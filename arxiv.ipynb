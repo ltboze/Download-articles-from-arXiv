{
 "cells": [
  {
   "cell_type": "code",
   "execution_count": 7,
   "metadata": {},
   "outputs": [],
   "source": [
    "import requests\n",
    "import re\n",
    "import io\n",
    "import datetime\n",
    "import time\n",
    "from progressbar import *\n",
    "import os"
   ]
  },
  {
   "cell_type": "code",
   "execution_count": 16,
   "metadata": {},
   "outputs": [
    {
     "name": "stdout",
     "output_type": "stream",
     "text": [
      "Already exist!\n"
     ]
    }
   ],
   "source": [
    "#create a directory in the name of date\n",
    "dir_name = str(datetime.date.today())\n",
    "if os.path.exists(dir_name):\n",
    "    print('Already exist!')\n",
    "else:\n",
    "    os.makedirs(dir_name)"
   ]
  },
  {
   "cell_type": "code",
   "execution_count": 12,
   "metadata": {},
   "outputs": [],
   "source": [
    "def download(keywords,category='gr-qc'):\n",
    "    #create a directory in the name of date\n",
    "    dir_name = str(datetime.date.today())\n",
    "    dir_path = dir_name+'/'+category\n",
    "    if os.path.exists(dir_path):\n",
    "        print('Already exist!')\n",
    "    else:\n",
    "        os.makedirs(dir_path)\n",
    "    url = 'https://arxiv.org/list/%s/new' %category\n",
    "    headers = {'User-Agent':'Mozilla/5.0 (Macintosh; U; Intel Mac OS X 10_6_8; en-us) AppleWebKit/534.50 (KHTML, like Gecko) Version/5.1 Safari/534.50'}\n",
    "    html = requests.get(url).content #add .decode('utf-8') for python 3 \n",
    "    titles = re.findall(r'<div class=\"list-title mathjax\">(.*?)</div>',html,re.S)\n",
    "    links = re.findall(r'<span class=\"list-identifier\">(.*?)</span>',html,re.S)\n",
    "    articles = []\n",
    "    for i in range(len(titles)):\n",
    "        title = titles[i][titles[i].rfind('>')+2:].strip()\n",
    "        link = 'https://arxiv.org%s' %links[i][links[i].find('/pdf'):links[i].find('/pdf')+15]\n",
    "        articles.append({'Title':title,'Link':link})\n",
    "    widgets = ['Progress: ',Percentage(), ' ', Bar('#'),' ', Timer(),  \n",
    "               ' ', ETA(), ' ', FileTransferSpeed()]  \n",
    "    pbar = ProgressBar(widgets=widgets, maxval=10*len(articles)).start()\n",
    "    i = 0\n",
    "    j = 0\n",
    "    for article in articles:\n",
    "        for keyword in keywords:\n",
    "            if keyword in map(lambda x:x.lower(),article['Title'].split(' ')):\n",
    "                art_html = requests.get(article['Link'])\n",
    "                fp = io.open('%s/%s.pdf'%(dir_path,article['Title']),'wb')\n",
    "                fp.write(art_html.content)\n",
    "                fp.close()\n",
    "                j += 1\n",
    "                break\n",
    "            else:\n",
    "                pass\n",
    "        pbar.update(10 * i + 1)\n",
    "        i += 1\n",
    "\n",
    "    pbar.finish()\n",
    "    print('*'*50)\n",
    "    print('{} artilce(s) have(has) been downloaded, enjoy yourself!'.format(j))"
   ]
  },
  {
   "cell_type": "code",
   "execution_count": 13,
   "metadata": {},
   "outputs": [
    {
     "name": "stdout",
     "output_type": "stream",
     "text": [
      "Already exist!\n"
     ]
    },
    {
     "name": "stderr",
     "output_type": "stream",
     "text": [
      "Progress: 100% |##############| Elapsed Time: 0:03:02 Time: 0:03:02   2.57  B/s\r"
     ]
    },
    {
     "name": "stdout",
     "output_type": "stream",
     "text": [
      "**************************************************\n",
      "17 artilce(s) have(has) been downloaded, enjoy yourself!\n",
      "CPU times: user 1.41 s, sys: 460 ms, total: 1.87 s\n",
      "Wall time: 3min 19s\n"
     ]
    },
    {
     "name": "stderr",
     "output_type": "stream",
     "text": [
      "\n"
     ]
    }
   ],
   "source": [
    "keywords = ['gravitational','wave','black','hole','waveform']\n",
    "category = 'gr-qc'\n",
    "if __name__ == '__main__':\n",
    "    %time download(keywords=keywords)"
   ]
  },
  {
   "cell_type": "code",
   "execution_count": 17,
   "metadata": {},
   "outputs": [
    {
     "data": {
      "text/plain": [
       "'https://arxiv.org/list/gr-qc/new'"
      ]
     },
     "execution_count": 17,
     "metadata": {},
     "output_type": "execute_result"
    }
   ],
   "source": [
    "category = 'gr-qc'\n",
    "cat_new = 'https://arxiv.org/list/%s/new' %cat\n",
    "cat_new "
   ]
  },
  {
   "cell_type": "code",
   "execution_count": 6,
   "metadata": {},
   "outputs": [
    {
     "data": {
      "text/plain": [
       "'2019-04-23/gr-qc'"
      ]
     },
     "execution_count": 6,
     "metadata": {},
     "output_type": "execute_result"
    }
   ],
   "source": [
    "category='gr-qc'\n",
    "dir_name = str(datetime.date.today())\n",
    "dir_name+'/'+category"
   ]
  },
  {
   "cell_type": "code",
   "execution_count": null,
   "metadata": {},
   "outputs": [],
   "source": []
  }
 ],
 "metadata": {
  "kernelspec": {
   "display_name": "Python 2",
   "language": "python",
   "name": "python2"
  },
  "language_info": {
   "codemirror_mode": {
    "name": "ipython",
    "version": 2
   },
   "file_extension": ".py",
   "mimetype": "text/x-python",
   "name": "python",
   "nbconvert_exporter": "python",
   "pygments_lexer": "ipython2",
   "version": "2.7.13"
  },
  "latex_envs": {
   "LaTeX_envs_menu_present": true,
   "autoclose": false,
   "autocomplete": true,
   "bibliofile": "biblio.bib",
   "cite_by": "apalike",
   "current_citInitial": 1,
   "eqLabelWithNumbers": true,
   "eqNumInitial": 1,
   "hotkeys": {
    "equation": "Ctrl-E",
    "itemize": "Ctrl-I"
   },
   "labels_anchors": false,
   "latex_user_defs": false,
   "report_style_numbering": false,
   "user_envs_cfg": false
  },
  "toc": {
   "base_numbering": 1,
   "nav_menu": {},
   "number_sections": true,
   "sideBar": true,
   "skip_h1_title": false,
   "title_cell": "Table of Contents",
   "title_sidebar": "Contents",
   "toc_cell": false,
   "toc_position": {},
   "toc_section_display": true,
   "toc_window_display": false
  }
 },
 "nbformat": 4,
 "nbformat_minor": 2
}
