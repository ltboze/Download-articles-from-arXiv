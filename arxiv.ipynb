{
 "cells": [
  {
   "cell_type": "code",
   "execution_count": 1,
   "metadata": {},
   "outputs": [],
   "source": [
    "import requests\n",
    "import re\n",
    "import io\n",
    "import datetime\n",
    "import time\n",
    "from progressbar import *\n",
    "import os"
   ]
  },
  {
   "cell_type": "code",
   "execution_count": 16,
   "metadata": {},
   "outputs": [
    {
     "name": "stdout",
     "output_type": "stream",
     "text": [
      "Already exist!\n"
     ]
    }
   ],
   "source": [
    "#create a directory in the name of date\n",
    "dir_name = str(datetime.date.today())\n",
    "if os.path.exists(dir_name):\n",
    "    print('Already exist!')\n",
    "else:\n",
    "    os.makedirs(dir_name)"
   ]
  },
  {
   "cell_type": "code",
   "execution_count": 8,
   "metadata": {},
   "outputs": [],
   "source": [
    "def download(keywords):\n",
    "    url = 'https://arxiv.org/list/gr-qc/new'\n",
    "    headers = {'User-Agent':'Mozilla/5.0 (Macintosh; U; Intel Mac OS X 10_6_8; en-us) AppleWebKit/534.50 (KHTML, like Gecko) Version/5.1 Safari/534.50'}\n",
    "    html = requests.get(url).content \n",
    "    titles = re.findall(r'<div class=\"list-title mathjax\">(.*?)</div>',html,re.S)\n",
    "    links = re.findall(r'<span class=\"list-identifier\">(.*?)</span>',html,re.S)\n",
    "    articles = []\n",
    "    for i in range(len(titles)):\n",
    "        title = titles[i][titles[i].rfind('>')+2:].strip()\n",
    "        link = 'https://arxiv.org%s' %links[i][links[i].find('/pdf'):links[i].find('/pdf')+15]\n",
    "        articles.append({'Title':title,'Link':link})\n",
    "    widgets = ['Progress: ',Percentage(), ' ', Bar('#'),' ', Timer(),  \n",
    "               ' ', ETA(), ' ', FileTransferSpeed()]  \n",
    "    pbar = ProgressBar(widgets=widgets, maxval=10*len(articles)).start()\n",
    "    i = 0\n",
    "    j = 0\n",
    "    for article in articles:\n",
    "        for keyword in keywords:\n",
    "            if keyword in map(lambda x:x.lower(),article['Title'].split(' ')):\n",
    "                art_html = requests.get(article['Link'])\n",
    "                fp = io.open('%s/%s.pdf'%(dir_name,article['Title']),'wb')\n",
    "                fp.write(art_html.content)\n",
    "                fp.close()\n",
    "                j += 1\n",
    "                break\n",
    "            else:\n",
    "                pass\n",
    "        pbar.update(10 * i + 1)\n",
    "        time.sleep(0.05)\n",
    "        i += 1\n",
    "\n",
    "    pbar.finish()\n",
    "    print('*'*50)\n",
    "    print('{} artilce(s) have(has) been downloaded, enjoy yourself!'.format(j))"
   ]
  },
  {
   "cell_type": "code",
   "execution_count": 10,
   "metadata": {},
   "outputs": [
    {
     "name": "stderr",
     "output_type": "stream",
     "text": [
      "Progress: 100% |##############| Elapsed Time: 0:02:36 Time: 0:02:36   3.01  B/s\r"
     ]
    },
    {
     "name": "stdout",
     "output_type": "stream",
     "text": [
      "**************************************************\n",
      "17 artilce(s) have(has) been downloaded, enjoy yourself!\n",
      "CPU times: user 1.41 s, sys: 447 ms, total: 1.86 s\n",
      "Wall time: 2min 38s\n"
     ]
    },
    {
     "name": "stderr",
     "output_type": "stream",
     "text": [
      "\n"
     ]
    }
   ],
   "source": [
    "keywords = ['gravitational','wave','black','hole','waveform']\n",
    "if __name__ == '__main__':\n",
    "    %time download(keywords=keywords)"
   ]
  },
  {
   "cell_type": "code",
   "execution_count": null,
   "metadata": {},
   "outputs": [],
   "source": []
  }
 ],
 "metadata": {
  "kernelspec": {
   "display_name": "Python 2",
   "language": "python",
   "name": "python2"
  },
  "language_info": {
   "codemirror_mode": {
    "name": "ipython",
    "version": 2
   },
   "file_extension": ".py",
   "mimetype": "text/x-python",
   "name": "python",
   "nbconvert_exporter": "python",
   "pygments_lexer": "ipython2",
   "version": "2.7.13"
  },
  "latex_envs": {
   "LaTeX_envs_menu_present": true,
   "autoclose": false,
   "autocomplete": true,
   "bibliofile": "biblio.bib",
   "cite_by": "apalike",
   "current_citInitial": 1,
   "eqLabelWithNumbers": true,
   "eqNumInitial": 1,
   "hotkeys": {
    "equation": "Ctrl-E",
    "itemize": "Ctrl-I"
   },
   "labels_anchors": false,
   "latex_user_defs": false,
   "report_style_numbering": false,
   "user_envs_cfg": false
  },
  "toc": {
   "base_numbering": 1,
   "nav_menu": {},
   "number_sections": true,
   "sideBar": true,
   "skip_h1_title": false,
   "title_cell": "Table of Contents",
   "title_sidebar": "Contents",
   "toc_cell": false,
   "toc_position": {},
   "toc_section_display": true,
   "toc_window_display": false
  }
 },
 "nbformat": 4,
 "nbformat_minor": 2
}
